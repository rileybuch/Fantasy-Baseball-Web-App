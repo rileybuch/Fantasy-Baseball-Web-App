{
 "cells": [
  {
   "cell_type": "code",
   "execution_count": 8,
   "metadata": {},
   "outputs": [],
   "source": [
    "import matplotlib\n",
    "import matplotlib.pyplot as plt\n",
    "import numpy as np\n",
    "import csv\n",
    "import pandas\n",
    "import mplcursors\n",
    "import os"
   ]
  },
  {
   "cell_type": "code",
   "execution_count": 18,
   "metadata": {},
   "outputs": [],
   "source": [
    "# get data from excel\n",
    "\n",
    "def autolabel(rects, player_list, ax):\n",
    "    \"\"\"Attach a text label above each bar in *rects*, displaying its height.\"\"\"\n",
    "    i = 0\n",
    "    for rect in rects:\n",
    "        height = rect.get_height() + 0.5\n",
    "        ax.annotate('{}'.format(player_list[i]),\n",
    "                    xy=(rect.get_x() + rect.get_width() / 2, height - 1),\n",
    "                    xytext=(0, 3),  # 3 points vertical offset\n",
    "                    textcoords=\"offset points\",\n",
    "                    ha='center', va='bottom')\n",
    "        i+= 1\n",
    "\n"
   ]
  },
  {
   "cell_type": "code",
   "execution_count": 26,
   "metadata": {},
   "outputs": [],
   "source": [
    "def make_chart2(player, stat, player_type):\n",
    "    comparison_labels = ['G']\n",
    "    comparison_labels.append(stat)\n",
    "\n",
    "\n",
    "    col = [\"Name\", \"Season\"]\n",
    "    for item in comparison_labels:\n",
    "        col.append(item)\n",
    "\n",
    "\n",
    "    x = []\n",
    "    y1 = []\n",
    "    y2 = []\n",
    "\n",
    "\n",
    "    reader = csv.reader(open('batting_data_1996_2020_with_risk.csv'))\n",
    "    df = pandas.read_csv('batting_data_1996_2020_with_risk.csv', usecols = lambda column : column in col)\n",
    "\n",
    "\n",
    "    for i in range(len(df)):\n",
    "        if (df['Name'][i] == player):\n",
    "            x.append(df['Season'][i]) #append season to x\n",
    "            y1.append(df[comparison_labels[0]][i]) #append games to y1\n",
    "            y2.append(df[comparison_labels[1]][i]) #append stat to y2\n",
    "\n",
    "\n",
    "    fig, ax1 = plt.subplots()\n",
    "\n",
    "    y1max = max(y1)\n",
    "\n",
    "\n",
    "    ax1.set_title(player + \"'s \" + comparison_labels[1] + \" statistics\")\n",
    "    ax2 = ax1.twinx()\n",
    "    ax1.plot(x, y1, 'o', color = 'royalblue', pickradius = 5 )\n",
    "    #ax2.plot(x, y2, 'o', color = 'r')\n",
    "\n",
    "    ax1.set_ylim(0, y1max * 1.2)\n",
    "    ax1.set_xlabel('Year')\n",
    "    ax1.set_ylabel(comparison_labels[0], color='b')\n",
    "    ax1.tick_params(axis='y', colors='b')\n",
    "    ax2.set_ylabel(comparison_labels[1], color='r')\n",
    "    ax2.tick_params(axis='y', colors='r')\n",
    "    width = 0.5  # the width of the bars\n",
    "    rects2 = ax2.bar(x, y2, width = width, color = 'tomato')\n",
    "\n",
    "    scale_factor = 0.4\n",
    "    ymin = min(y2)\n",
    "    ymax = max(y2)\n",
    "\n",
    "    ax2.set_ylim(ymin * scale_factor, ymax * (1 + scale_factor))\n",
    "    #mplcursors.cursor(hover=True)\n",
    "\n",
    "    autolabel(rects2, y2, ax2)\n",
    "\n",
    "    plt.show()\n",
    "\n",
    "\n",
    "\n"
   ]
  },
  {
   "cell_type": "code",
   "execution_count": 27,
   "metadata": {},
   "outputs": [
    {
     "data": {
      "image/png": "[encoded data removed]",
      "text/plain": [
       "<Figure size 432x288 with 2 Axes>"
      ]
     },
     "metadata": {
      "needs_background": "light"
     },
     "output_type": "display_data"
    }
   ],
   "source": [
    "make_chart2('Mike Trout', 'RBI', 'Bat')"
   ]
  },
  {
   "cell_type": "code",
   "execution_count": 13,
   "metadata": {},
   "outputs": [],
   "source": [
    "os.chdir('/Users/rmbuch/Desktop/fantasy_baseball/fantasy_baseball')"
   ]
  },
  {
   "cell_type": "code",
   "execution_count": null,
   "metadata": {},
   "outputs": [],
   "source": []
  }
 ],
 "metadata": {
  "kernelspec": {
   "display_name": "Python 3",
   "language": "python",
   "name": "python3"
  },
  "language_info": {
   "codemirror_mode": {
    "name": "ipython",
    "version": 3
   },
   "file_extension": ".py",
   "mimetype": "text/x-python",
   "name": "python",
   "nbconvert_exporter": "python",
   "pygments_lexer": "ipython3",
   "version": "3.7.4"
  }
 },
 "nbformat": 4,
 "nbformat_minor": 2
}
