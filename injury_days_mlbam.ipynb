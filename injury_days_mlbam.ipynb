{
 "cells": [
  {
   "cell_type": "code",
   "execution_count": 109,
   "metadata": {},
   "outputs": [],
   "source": [
    "import numpy as np\n",
    "import pandas as pd\n",
    "import requests\n",
    "\n",
    "pd.options.display.max_colwidth = 1000"
   ]
  },
  {
   "cell_type": "code",
   "execution_count": 118,
   "metadata": {},
   "outputs": [],
   "source": [
    "hostname = \"http://lookup-service-prod.mlb.com\"\n",
    "path = \"/json/named.transaction_all.bam?sport_code='mlb'&start_date={0}&end_date={1}\".format(\"20080101\",\"20081231\")"
   ]
  },
  {
   "cell_type": "code",
   "execution_count": 119,
   "metadata": {},
   "outputs": [],
   "source": [
    "r = requests.get('{0}{1}'.format(hostname, path))\n",
    "j = r.json()"
   ]
  },
  {
   "cell_type": "code",
   "execution_count": 120,
   "metadata": {},
   "outputs": [],
   "source": [
    "df = pd.DataFrame(j['transaction_all']['queryResults']['row'])"
   ]
  },
  {
   "cell_type": "code",
   "execution_count": 121,
   "metadata": {},
   "outputs": [],
   "source": [
    "df.to_csv(\"./2008_injury_mlb_api.csv\")"
   ]
  },
  {
   "cell_type": "code",
   "execution_count": 113,
   "metadata": {},
   "outputs": [
    {
     "name": "stdout",
     "output_type": "stream",
     "text": [
      "2\n",
      "0\n"
     ]
    }
   ],
   "source": [
    "placed = df[(df.note.str.contains(\"placed\")) & (df.note.str.contains(\"disabled list\"))]\n",
    "placed2 = df[(df.note.str.contains(\"placed\")) & (df.note.str.contains(\"injured list\"))]\n",
    "\n",
    "print(len(placed))\n",
    "print(len(placed2))"
   ]
  },
  {
   "cell_type": "code",
   "execution_count": 107,
   "metadata": {},
   "outputs": [
    {
     "data": {
      "text/html": [
       "<div>\n",
       "<style scoped>\n",
       "    .dataframe tbody tr th:only-of-type {\n",
       "        vertical-align: middle;\n",
       "    }\n",
       "\n",
       "    .dataframe tbody tr th {\n",
       "        vertical-align: top;\n",
       "    }\n",
       "\n",
       "    .dataframe thead th {\n",
       "        text-align: right;\n",
       "    }\n",
       "</style>\n",
       "<table border=\"1\" class=\"dataframe\">\n",
       "  <thead>\n",
       "    <tr style=\"text-align: right;\">\n",
       "      <th></th>\n",
       "      <th>playerid</th>\n",
       "      <th>injury_start_date</th>\n",
       "      <th>injury_end_date</th>\n",
       "    </tr>\n",
       "  </thead>\n",
       "  <tbody>\n",
       "    <tr>\n",
       "      <th>0</th>\n",
       "      <td>489265</td>\n",
       "      <td>2009-03-27T00:00:00</td>\n",
       "      <td>2009-05-30T00:00:00</td>\n",
       "    </tr>\n",
       "    <tr>\n",
       "      <th>1</th>\n",
       "      <td>430161</td>\n",
       "      <td>2009-03-27T00:00:00</td>\n",
       "      <td>2009-11-03T00:00:00</td>\n",
       "    </tr>\n",
       "    <tr>\n",
       "      <th>2</th>\n",
       "      <td>433585</td>\n",
       "      <td>2009-03-27T00:00:00</td>\n",
       "      <td>2009-11-13T00:00:00</td>\n",
       "    </tr>\n",
       "    <tr>\n",
       "      <th>3</th>\n",
       "      <td>150061</td>\n",
       "      <td>2009-03-27T00:00:00</td>\n",
       "      <td>2009-04-27T00:00:00</td>\n",
       "    </tr>\n",
       "    <tr>\n",
       "      <th>4</th>\n",
       "      <td>407113</td>\n",
       "      <td>2009-03-27T00:00:00</td>\n",
       "      <td>2009-12-30T00:00:00</td>\n",
       "    </tr>\n",
       "  </tbody>\n",
       "</table>\n",
       "</div>"
      ],
      "text/plain": [
       "  playerid    injury_start_date      injury_end_date\n",
       "0   489265  2009-03-27T00:00:00  2009-05-30T00:00:00\n",
       "1   430161  2009-03-27T00:00:00  2009-11-03T00:00:00\n",
       "2   433585  2009-03-27T00:00:00  2009-11-13T00:00:00\n",
       "3   150061  2009-03-27T00:00:00  2009-04-27T00:00:00\n",
       "4   407113  2009-03-27T00:00:00  2009-12-30T00:00:00"
      ]
     },
     "execution_count": 107,
     "metadata": {},
     "output_type": "execute_result"
    }
   ],
   "source": [
    "row = dict()\n",
    "df3 = pd.DataFrame(columns = ['playerid','injury_start_date','injury_end_date'])\n",
    "\n",
    "for k,v in placed.iterrows():\n",
    "    row['playerid'] = v.player_id\n",
    "    row['injury_start_date'] = v.trans_date\n",
    "    \n",
    "    # resolve this players time injured\n",
    "    activated = df[(df.player_id == v.player_id) & \n",
    "                   (df.trans_date > v.trans_date) & \n",
    "                   ((df.note.str.contains(\"activated\")) & ((df.note.str.contains(\"disabled list\")) | (df.note.str.contains(\"injured list\"))))]\n",
    "    optioned = df[(df.player_id == v.player_id) & \n",
    "                  (df.trans_date > v.trans_date) & \n",
    "                  (df.type.isin(['Optioned','Released','Signed as Free Agent',\n",
    "                                 'Declared Free Agency','Outrighted','Returned',\n",
    "                                 'Claimed Off Waivers','Retired']))]\n",
    "    combined = activated.append(other=optioned)\n",
    "    combined = combined.sort_values(by=['trans_date'])\n",
    "    \n",
    "    if len(combined) > 0:\n",
    "        row['injury_end_date'] = combined.iloc[0].trans_date\n",
    "    else:\n",
    "        activated = df[(df.player_id == v.player_id) & \n",
    "                   (df.trans_date > v.trans_date) & \n",
    "                   (df.note.str.contains(\"activated\"))]\n",
    "        combined = activated.sort_values(by=['trans_date'])\n",
    "        if len(combined) > 0:\n",
    "            row['injury_end_date'] = combined.iloc[0].trans_date\n",
    "        else:\n",
    "            activated = df[(df.player_id == v.player_id) & \n",
    "                   (df.trans_date > v.trans_date) & \n",
    "                   (df.note.str.contains(\"roster status changed by\"))]\n",
    "            combined = activated.sort_values(by=['trans_date'])\n",
    "            if len(combined) > 0:\n",
    "                row['injury_end_date'] = combined.iloc[0].trans_date\n",
    "            \n",
    "    tmp = pd.Series(row)\n",
    "    df3 = df3.append(other=tmp, ignore_index=True)\n",
    "    row = dict()\n",
    "    \n",
    "df3.head()"
   ]
  },
  {
   "cell_type": "code",
   "execution_count": 108,
   "metadata": {},
   "outputs": [
    {
     "data": {
      "text/html": [
       "<div>\n",
       "<style scoped>\n",
       "    .dataframe tbody tr th:only-of-type {\n",
       "        vertical-align: middle;\n",
       "    }\n",
       "\n",
       "    .dataframe tbody tr th {\n",
       "        vertical-align: top;\n",
       "    }\n",
       "\n",
       "    .dataframe thead th {\n",
       "        text-align: right;\n",
       "    }\n",
       "</style>\n",
       "<table border=\"1\" class=\"dataframe\">\n",
       "  <thead>\n",
       "    <tr style=\"text-align: right;\">\n",
       "      <th></th>\n",
       "      <th>playerid</th>\n",
       "      <th>injury_start_date</th>\n",
       "      <th>injury_end_date</th>\n",
       "    </tr>\n",
       "  </thead>\n",
       "  <tbody>\n",
       "    <tr>\n",
       "      <th>35</th>\n",
       "      <td>430657</td>\n",
       "      <td>2009-04-05T00:00:00</td>\n",
       "      <td>NaN</td>\n",
       "    </tr>\n",
       "    <tr>\n",
       "      <th>107</th>\n",
       "      <td>429718</td>\n",
       "      <td>2009-04-26T00:00:00</td>\n",
       "      <td>NaN</td>\n",
       "    </tr>\n",
       "    <tr>\n",
       "      <th>178</th>\n",
       "      <td>434565</td>\n",
       "      <td>2009-05-24T00:00:00</td>\n",
       "      <td>NaN</td>\n",
       "    </tr>\n",
       "    <tr>\n",
       "      <th>246</th>\n",
       "      <td>114260</td>\n",
       "      <td>2009-06-19T00:00:00</td>\n",
       "      <td>NaN</td>\n",
       "    </tr>\n",
       "    <tr>\n",
       "      <th>381</th>\n",
       "      <td>429665</td>\n",
       "      <td>2009-08-24T00:00:00</td>\n",
       "      <td>NaN</td>\n",
       "    </tr>\n",
       "  </tbody>\n",
       "</table>\n",
       "</div>"
      ],
      "text/plain": [
       "    playerid    injury_start_date injury_end_date\n",
       "35    430657  2009-04-05T00:00:00             NaN\n",
       "107   429718  2009-04-26T00:00:00             NaN\n",
       "178   434565  2009-05-24T00:00:00             NaN\n",
       "246   114260  2009-06-19T00:00:00             NaN\n",
       "381   429665  2009-08-24T00:00:00             NaN"
      ]
     },
     "execution_count": 108,
     "metadata": {},
     "output_type": "execute_result"
    }
   ],
   "source": [
    "df3[df3.injury_end_date.isnull()]"
   ]
  },
  {
   "cell_type": "code",
   "execution_count": 87,
   "metadata": {},
   "outputs": [],
   "source": [
    "# df3.to_csv(\"./2008_injury_mlb_api.csv\")"
   ]
  },
  {
   "cell_type": "code",
   "execution_count": null,
   "metadata": {},
   "outputs": [],
   "source": [
    "df[df.player_id == '453214'].loc[:,['type','trans_date','resolution_date','note']]"
   ]
  },
  {
   "cell_type": "code",
   "execution_count": 143,
   "metadata": {},
   "outputs": [],
   "source": [
    "# fill missing end date as Nov 1st (end of regular season or thereabouts)\n",
    "for i in range(2009,2020):\n",
    "    inj = pd.read_csv('./{0}_injury_mlb_api.csv'.format(i))\n",
    "    \n",
    "    inj.injury_end_date = inj.injury_end_date.fillna('{0}-11-01T00:00:00'.format(i))\n",
    "    \n",
    "    inj.to_csv('./{0}_injury_mlb_api.csv'.format(i))"
   ]
  },
  {
   "cell_type": "code",
   "execution_count": 154,
   "metadata": {},
   "outputs": [
    {
     "data": {
      "text/html": [
       "<div>\n",
       "<style scoped>\n",
       "    .dataframe tbody tr th:only-of-type {\n",
       "        vertical-align: middle;\n",
       "    }\n",
       "\n",
       "    .dataframe tbody tr th {\n",
       "        vertical-align: top;\n",
       "    }\n",
       "\n",
       "    .dataframe thead th {\n",
       "        text-align: right;\n",
       "    }\n",
       "</style>\n",
       "<table border=\"1\" class=\"dataframe\">\n",
       "  <thead>\n",
       "    <tr style=\"text-align: right;\">\n",
       "      <th></th>\n",
       "      <th>playerid</th>\n",
       "      <th>injury_start_date</th>\n",
       "      <th>injury_end_date</th>\n",
       "    </tr>\n",
       "  </thead>\n",
       "  <tbody>\n",
       "    <tr>\n",
       "      <th>0</th>\n",
       "      <td>489265</td>\n",
       "      <td>2009-03-27T00:00:00</td>\n",
       "      <td>2009-05-30T00:00:00</td>\n",
       "    </tr>\n",
       "    <tr>\n",
       "      <th>1</th>\n",
       "      <td>430161</td>\n",
       "      <td>2009-03-27T00:00:00</td>\n",
       "      <td>2009-11-03T00:00:00</td>\n",
       "    </tr>\n",
       "    <tr>\n",
       "      <th>2</th>\n",
       "      <td>433585</td>\n",
       "      <td>2009-03-27T00:00:00</td>\n",
       "      <td>2009-11-13T00:00:00</td>\n",
       "    </tr>\n",
       "    <tr>\n",
       "      <th>3</th>\n",
       "      <td>150061</td>\n",
       "      <td>2009-03-27T00:00:00</td>\n",
       "      <td>2009-04-27T00:00:00</td>\n",
       "    </tr>\n",
       "    <tr>\n",
       "      <th>4</th>\n",
       "      <td>407113</td>\n",
       "      <td>2009-03-27T00:00:00</td>\n",
       "      <td>2009-12-30T00:00:00</td>\n",
       "    </tr>\n",
       "  </tbody>\n",
       "</table>\n",
       "</div>"
      ],
      "text/plain": [
       "  playerid    injury_start_date      injury_end_date\n",
       "0   489265  2009-03-27T00:00:00  2009-05-30T00:00:00\n",
       "1   430161  2009-03-27T00:00:00  2009-11-03T00:00:00\n",
       "2   433585  2009-03-27T00:00:00  2009-11-13T00:00:00\n",
       "3   150061  2009-03-27T00:00:00  2009-04-27T00:00:00\n",
       "4   407113  2009-03-27T00:00:00  2009-12-30T00:00:00"
      ]
     },
     "execution_count": 154,
     "metadata": {},
     "output_type": "execute_result"
    }
   ],
   "source": [
    "# append all the injury datasets into one\n",
    "cols = ['playerid', 'injury_start_date', 'injury_end_date']\n",
    "all_inj = pd.DataFrame(columns=cols)\n",
    "\n",
    "all_inj.head()\n",
    "\n",
    "for i in range(2009,2020):\n",
    "    inj = pd.read_csv('./{0}_injury_mlb_api.csv'.format(i))\n",
    "    \n",
    "    all_inj = pd.concat([all_inj, inj])\n",
    "    break\n",
    "\n",
    "all_inj.drop(['Unnamed: 0','Unnamed: 0.1','Unnamed: 0.1.1','Unnamed: 0.1.1.1'], axis=1, inplace=True)\n",
    "all_inj.head()"
   ]
  },
  {
   "cell_type": "code",
   "execution_count": 164,
   "metadata": {},
   "outputs": [
    {
     "name": "stdout",
     "output_type": "stream",
     "text": [
      "float64\n"
     ]
    },
    {
     "data": {
      "text/html": [
       "<div>\n",
       "<style scoped>\n",
       "    .dataframe tbody tr th:only-of-type {\n",
       "        vertical-align: middle;\n",
       "    }\n",
       "\n",
       "    .dataframe tbody tr th {\n",
       "        vertical-align: top;\n",
       "    }\n",
       "\n",
       "    .dataframe thead th {\n",
       "        text-align: right;\n",
       "    }\n",
       "</style>\n",
       "<table border=\"1\" class=\"dataframe\">\n",
       "  <thead>\n",
       "    <tr style=\"text-align: right;\">\n",
       "      <th></th>\n",
       "      <th>playerid</th>\n",
       "      <th>injury_start_date</th>\n",
       "      <th>injury_end_date</th>\n",
       "      <th>days_injured</th>\n",
       "    </tr>\n",
       "  </thead>\n",
       "  <tbody>\n",
       "    <tr>\n",
       "      <th>0</th>\n",
       "      <td>489265</td>\n",
       "      <td>2009-03-27T00:00:00</td>\n",
       "      <td>2009-05-30T00:00:00</td>\n",
       "      <td>64.0</td>\n",
       "    </tr>\n",
       "    <tr>\n",
       "      <th>1</th>\n",
       "      <td>430161</td>\n",
       "      <td>2009-03-27T00:00:00</td>\n",
       "      <td>2009-11-03T00:00:00</td>\n",
       "      <td>221.0</td>\n",
       "    </tr>\n",
       "    <tr>\n",
       "      <th>2</th>\n",
       "      <td>433585</td>\n",
       "      <td>2009-03-27T00:00:00</td>\n",
       "      <td>2009-11-13T00:00:00</td>\n",
       "      <td>231.0</td>\n",
       "    </tr>\n",
       "    <tr>\n",
       "      <th>3</th>\n",
       "      <td>150061</td>\n",
       "      <td>2009-03-27T00:00:00</td>\n",
       "      <td>2009-04-27T00:00:00</td>\n",
       "      <td>31.0</td>\n",
       "    </tr>\n",
       "    <tr>\n",
       "      <th>4</th>\n",
       "      <td>407113</td>\n",
       "      <td>2009-03-27T00:00:00</td>\n",
       "      <td>2009-12-30T00:00:00</td>\n",
       "      <td>278.0</td>\n",
       "    </tr>\n",
       "  </tbody>\n",
       "</table>\n",
       "</div>"
      ],
      "text/plain": [
       "  playerid    injury_start_date      injury_end_date  days_injured\n",
       "0   489265  2009-03-27T00:00:00  2009-05-30T00:00:00          64.0\n",
       "1   430161  2009-03-27T00:00:00  2009-11-03T00:00:00         221.0\n",
       "2   433585  2009-03-27T00:00:00  2009-11-13T00:00:00         231.0\n",
       "3   150061  2009-03-27T00:00:00  2009-04-27T00:00:00          31.0\n",
       "4   407113  2009-03-27T00:00:00  2009-12-30T00:00:00         278.0"
      ]
     },
     "execution_count": 164,
     "metadata": {},
     "output_type": "execute_result"
    }
   ],
   "source": [
    "all_inj['days_injured'] = pd.to_datetime(all_inj.injury_end_date) - pd.to_datetime(all_inj.injury_start_date)\n",
    "all_inj.days_injured = all_inj.days_injured / np.timedelta64(1, 'D')\n",
    "print(all_inj.days_injured.dtype)\n",
    "all_inj.head()"
   ]
  }
 ],
 "metadata": {
  "kernelspec": {
   "display_name": "Python 3.7.5 64-bit ('py3.7.5': conda)",
   "language": "python",
   "name": "python37564bitpy375condaa58ff52953444256bac7a0990c6b5df6"
  },
  "language_info": {
   "codemirror_mode": {
    "name": "ipython",
    "version": 3
   },
   "file_extension": ".py",
   "mimetype": "text/x-python",
   "name": "python",
   "nbconvert_exporter": "python",
   "pygments_lexer": "ipython3",
   "version": "3.7.5"
  }
 },
 "nbformat": 4,
 "nbformat_minor": 2
}
